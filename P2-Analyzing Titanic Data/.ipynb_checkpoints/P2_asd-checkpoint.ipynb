{
 "cells": [
  {
   "cell_type": "markdown",
   "metadata": {},
   "source": [
    "# Project 2 - Analyzing Titanic Data\n",
    "# by Dogan Askan "
   ]
  },
  {
   "cell_type": "markdown",
   "metadata": {},
   "source": [
    "## Part 1 - First Glance"
   ]
  },
  {
   "cell_type": "markdown",
   "metadata": {},
   "source": [
    "Metadata can be found at https://www.kaggle.com/c/titanic/data"
   ]
  },
  {
   "cell_type": "code",
   "execution_count": 404,
   "metadata": {
    "collapsed": false
   },
   "outputs": [],
   "source": [
    "#Necessary libraries\n",
    "import pandas as pd\n",
    "import numpy as np\n",
    "import seaborn as sns\n",
    "import matplotlib.pyplot as plt\n",
    "from scipy.stats import ttest_ind\n",
    "from scipy.special import stdtr\n",
    "import scipy.stats as stats\n",
    "from scipy import stats\n",
    "from statsmodels.stats.multicomp import (pairwise_tukeyhsd,\n",
    "                                         MultiComparison)"
   ]
  },
  {
   "cell_type": "markdown",
   "metadata": {},
   "source": [
    "After necessary libraries are loaded, an initial look can be taken to the data"
   ]
  },
  {
   "cell_type": "code",
   "execution_count": 148,
   "metadata": {
    "collapsed": false,
    "scrolled": true
   },
   "outputs": [
    {
     "data": {
      "text/html": [
       "<div>\n",
       "<table border=\"1\" class=\"dataframe\">\n",
       "  <thead>\n",
       "    <tr style=\"text-align: right;\">\n",
       "      <th></th>\n",
       "      <th>PassengerId</th>\n",
       "      <th>Survived</th>\n",
       "      <th>Pclass</th>\n",
       "      <th>Name</th>\n",
       "      <th>Sex</th>\n",
       "      <th>Age</th>\n",
       "      <th>SibSp</th>\n",
       "      <th>Parch</th>\n",
       "      <th>Ticket</th>\n",
       "      <th>Fare</th>\n",
       "      <th>Cabin</th>\n",
       "      <th>Embarked</th>\n",
       "    </tr>\n",
       "  </thead>\n",
       "  <tbody>\n",
       "    <tr>\n",
       "      <th>0</th>\n",
       "      <td>1</td>\n",
       "      <td>0</td>\n",
       "      <td>3</td>\n",
       "      <td>Braund, Mr. Owen Harris</td>\n",
       "      <td>male</td>\n",
       "      <td>22</td>\n",
       "      <td>1</td>\n",
       "      <td>0</td>\n",
       "      <td>A/5 21171</td>\n",
       "      <td>7.2500</td>\n",
       "      <td>NaN</td>\n",
       "      <td>S</td>\n",
       "    </tr>\n",
       "    <tr>\n",
       "      <th>1</th>\n",
       "      <td>2</td>\n",
       "      <td>1</td>\n",
       "      <td>1</td>\n",
       "      <td>Cumings, Mrs. John Bradley (Florence Briggs Th...</td>\n",
       "      <td>female</td>\n",
       "      <td>38</td>\n",
       "      <td>1</td>\n",
       "      <td>0</td>\n",
       "      <td>PC 17599</td>\n",
       "      <td>71.2833</td>\n",
       "      <td>C85</td>\n",
       "      <td>C</td>\n",
       "    </tr>\n",
       "    <tr>\n",
       "      <th>2</th>\n",
       "      <td>3</td>\n",
       "      <td>1</td>\n",
       "      <td>3</td>\n",
       "      <td>Heikkinen, Miss. Laina</td>\n",
       "      <td>female</td>\n",
       "      <td>26</td>\n",
       "      <td>0</td>\n",
       "      <td>0</td>\n",
       "      <td>STON/O2. 3101282</td>\n",
       "      <td>7.9250</td>\n",
       "      <td>NaN</td>\n",
       "      <td>S</td>\n",
       "    </tr>\n",
       "    <tr>\n",
       "      <th>3</th>\n",
       "      <td>4</td>\n",
       "      <td>1</td>\n",
       "      <td>1</td>\n",
       "      <td>Futrelle, Mrs. Jacques Heath (Lily May Peel)</td>\n",
       "      <td>female</td>\n",
       "      <td>35</td>\n",
       "      <td>1</td>\n",
       "      <td>0</td>\n",
       "      <td>113803</td>\n",
       "      <td>53.1000</td>\n",
       "      <td>C123</td>\n",
       "      <td>S</td>\n",
       "    </tr>\n",
       "    <tr>\n",
       "      <th>4</th>\n",
       "      <td>5</td>\n",
       "      <td>0</td>\n",
       "      <td>3</td>\n",
       "      <td>Allen, Mr. William Henry</td>\n",
       "      <td>male</td>\n",
       "      <td>35</td>\n",
       "      <td>0</td>\n",
       "      <td>0</td>\n",
       "      <td>373450</td>\n",
       "      <td>8.0500</td>\n",
       "      <td>NaN</td>\n",
       "      <td>S</td>\n",
       "    </tr>\n",
       "  </tbody>\n",
       "</table>\n",
       "</div>"
      ],
      "text/plain": [
       "   PassengerId  Survived  Pclass  \\\n",
       "0            1         0       3   \n",
       "1            2         1       1   \n",
       "2            3         1       3   \n",
       "3            4         1       1   \n",
       "4            5         0       3   \n",
       "\n",
       "                                                Name     Sex  Age  SibSp  \\\n",
       "0                            Braund, Mr. Owen Harris    male   22      1   \n",
       "1  Cumings, Mrs. John Bradley (Florence Briggs Th...  female   38      1   \n",
       "2                             Heikkinen, Miss. Laina  female   26      0   \n",
       "3       Futrelle, Mrs. Jacques Heath (Lily May Peel)  female   35      1   \n",
       "4                           Allen, Mr. William Henry    male   35      0   \n",
       "\n",
       "   Parch            Ticket     Fare Cabin Embarked  \n",
       "0      0         A/5 21171   7.2500   NaN        S  \n",
       "1      0          PC 17599  71.2833   C85        C  \n",
       "2      0  STON/O2. 3101282   7.9250   NaN        S  \n",
       "3      0            113803  53.1000  C123        S  \n",
       "4      0            373450   8.0500   NaN        S  "
      ]
     },
     "execution_count": 148,
     "metadata": {},
     "output_type": "execute_result"
    }
   ],
   "source": [
    "#load the data\n",
    "filename = 'titanic_data.csv'\n",
    "raw_titanic_df = pd.read_csv(filename)\n",
    "raw_titanic_df.head() #the first glance"
   ]
  },
  {
   "cell_type": "markdown",
   "metadata": {},
   "source": [
    "Below are the some descriptive statistics about the data. "
   ]
  },
  {
   "cell_type": "code",
   "execution_count": 22,
   "metadata": {
    "collapsed": false
   },
   "outputs": [
    {
     "data": {
      "text/html": [
       "<div>\n",
       "<table border=\"1\" class=\"dataframe\">\n",
       "  <thead>\n",
       "    <tr style=\"text-align: right;\">\n",
       "      <th></th>\n",
       "      <th></th>\n",
       "      <th>PassengerId</th>\n",
       "      <th>Survived</th>\n",
       "      <th>Age</th>\n",
       "      <th>SibSp</th>\n",
       "      <th>Parch</th>\n",
       "      <th>Fare</th>\n",
       "    </tr>\n",
       "    <tr>\n",
       "      <th>Pclass</th>\n",
       "      <th>Sex</th>\n",
       "      <th></th>\n",
       "      <th></th>\n",
       "      <th></th>\n",
       "      <th></th>\n",
       "      <th></th>\n",
       "      <th></th>\n",
       "    </tr>\n",
       "  </thead>\n",
       "  <tbody>\n",
       "    <tr>\n",
       "      <th rowspan=\"2\" valign=\"top\">1</th>\n",
       "      <th>female</th>\n",
       "      <td>469.212766</td>\n",
       "      <td>0.968085</td>\n",
       "      <td>34.611765</td>\n",
       "      <td>0.553191</td>\n",
       "      <td>0.457447</td>\n",
       "      <td>106.125798</td>\n",
       "    </tr>\n",
       "    <tr>\n",
       "      <th>male</th>\n",
       "      <td>455.729508</td>\n",
       "      <td>0.368852</td>\n",
       "      <td>41.281386</td>\n",
       "      <td>0.311475</td>\n",
       "      <td>0.278689</td>\n",
       "      <td>67.226127</td>\n",
       "    </tr>\n",
       "    <tr>\n",
       "      <th rowspan=\"2\" valign=\"top\">2</th>\n",
       "      <th>female</th>\n",
       "      <td>443.105263</td>\n",
       "      <td>0.921053</td>\n",
       "      <td>28.722973</td>\n",
       "      <td>0.486842</td>\n",
       "      <td>0.605263</td>\n",
       "      <td>21.970121</td>\n",
       "    </tr>\n",
       "    <tr>\n",
       "      <th>male</th>\n",
       "      <td>447.962963</td>\n",
       "      <td>0.157407</td>\n",
       "      <td>30.740707</td>\n",
       "      <td>0.342593</td>\n",
       "      <td>0.222222</td>\n",
       "      <td>19.741782</td>\n",
       "    </tr>\n",
       "    <tr>\n",
       "      <th rowspan=\"2\" valign=\"top\">3</th>\n",
       "      <th>female</th>\n",
       "      <td>399.729167</td>\n",
       "      <td>0.500000</td>\n",
       "      <td>21.750000</td>\n",
       "      <td>0.895833</td>\n",
       "      <td>0.798611</td>\n",
       "      <td>16.118810</td>\n",
       "    </tr>\n",
       "    <tr>\n",
       "      <th>male</th>\n",
       "      <td>455.515850</td>\n",
       "      <td>0.135447</td>\n",
       "      <td>26.507589</td>\n",
       "      <td>0.498559</td>\n",
       "      <td>0.224784</td>\n",
       "      <td>12.661633</td>\n",
       "    </tr>\n",
       "  </tbody>\n",
       "</table>\n",
       "</div>"
      ],
      "text/plain": [
       "               PassengerId  Survived        Age     SibSp     Parch  \\\n",
       "Pclass Sex                                                            \n",
       "1      female   469.212766  0.968085  34.611765  0.553191  0.457447   \n",
       "       male     455.729508  0.368852  41.281386  0.311475  0.278689   \n",
       "2      female   443.105263  0.921053  28.722973  0.486842  0.605263   \n",
       "       male     447.962963  0.157407  30.740707  0.342593  0.222222   \n",
       "3      female   399.729167  0.500000  21.750000  0.895833  0.798611   \n",
       "       male     455.515850  0.135447  26.507589  0.498559  0.224784   \n",
       "\n",
       "                     Fare  \n",
       "Pclass Sex                 \n",
       "1      female  106.125798  \n",
       "       male     67.226127  \n",
       "2      female   21.970121  \n",
       "       male     19.741782  \n",
       "3      female   16.118810  \n",
       "       male     12.661633  "
      ]
     },
     "execution_count": 22,
     "metadata": {},
     "output_type": "execute_result"
    }
   ],
   "source": [
    "raw_titanic_df.groupby(['Pclass','Sex']).mean() #means grouped by \"Age\" and \"Sex\""
   ]
  },
  {
   "cell_type": "code",
   "execution_count": 20,
   "metadata": {
    "collapsed": false
   },
   "outputs": [
    {
     "data": {
      "text/html": [
       "<div>\n",
       "<table border=\"1\" class=\"dataframe\">\n",
       "  <thead>\n",
       "    <tr style=\"text-align: right;\">\n",
       "      <th></th>\n",
       "      <th>PassengerId</th>\n",
       "      <th>Survived</th>\n",
       "      <th>Pclass</th>\n",
       "      <th>Age</th>\n",
       "      <th>SibSp</th>\n",
       "      <th>Parch</th>\n",
       "      <th>Fare</th>\n",
       "    </tr>\n",
       "  </thead>\n",
       "  <tbody>\n",
       "    <tr>\n",
       "      <th>count</th>\n",
       "      <td>891.000000</td>\n",
       "      <td>891.000000</td>\n",
       "      <td>891.000000</td>\n",
       "      <td>714.000000</td>\n",
       "      <td>891.000000</td>\n",
       "      <td>891.000000</td>\n",
       "      <td>891.000000</td>\n",
       "    </tr>\n",
       "    <tr>\n",
       "      <th>mean</th>\n",
       "      <td>446.000000</td>\n",
       "      <td>0.383838</td>\n",
       "      <td>2.308642</td>\n",
       "      <td>29.699118</td>\n",
       "      <td>0.523008</td>\n",
       "      <td>0.381594</td>\n",
       "      <td>32.204208</td>\n",
       "    </tr>\n",
       "    <tr>\n",
       "      <th>std</th>\n",
       "      <td>257.353842</td>\n",
       "      <td>0.486592</td>\n",
       "      <td>0.836071</td>\n",
       "      <td>14.526497</td>\n",
       "      <td>1.102743</td>\n",
       "      <td>0.806057</td>\n",
       "      <td>49.693429</td>\n",
       "    </tr>\n",
       "    <tr>\n",
       "      <th>min</th>\n",
       "      <td>1.000000</td>\n",
       "      <td>0.000000</td>\n",
       "      <td>1.000000</td>\n",
       "      <td>0.420000</td>\n",
       "      <td>0.000000</td>\n",
       "      <td>0.000000</td>\n",
       "      <td>0.000000</td>\n",
       "    </tr>\n",
       "    <tr>\n",
       "      <th>25%</th>\n",
       "      <td>223.500000</td>\n",
       "      <td>0.000000</td>\n",
       "      <td>2.000000</td>\n",
       "      <td>20.125000</td>\n",
       "      <td>0.000000</td>\n",
       "      <td>0.000000</td>\n",
       "      <td>7.910400</td>\n",
       "    </tr>\n",
       "    <tr>\n",
       "      <th>50%</th>\n",
       "      <td>446.000000</td>\n",
       "      <td>0.000000</td>\n",
       "      <td>3.000000</td>\n",
       "      <td>28.000000</td>\n",
       "      <td>0.000000</td>\n",
       "      <td>0.000000</td>\n",
       "      <td>14.454200</td>\n",
       "    </tr>\n",
       "    <tr>\n",
       "      <th>75%</th>\n",
       "      <td>668.500000</td>\n",
       "      <td>1.000000</td>\n",
       "      <td>3.000000</td>\n",
       "      <td>38.000000</td>\n",
       "      <td>1.000000</td>\n",
       "      <td>0.000000</td>\n",
       "      <td>31.000000</td>\n",
       "    </tr>\n",
       "    <tr>\n",
       "      <th>max</th>\n",
       "      <td>891.000000</td>\n",
       "      <td>1.000000</td>\n",
       "      <td>3.000000</td>\n",
       "      <td>80.000000</td>\n",
       "      <td>8.000000</td>\n",
       "      <td>6.000000</td>\n",
       "      <td>512.329200</td>\n",
       "    </tr>\n",
       "  </tbody>\n",
       "</table>\n",
       "</div>"
      ],
      "text/plain": [
       "       PassengerId    Survived      Pclass         Age       SibSp  \\\n",
       "count   891.000000  891.000000  891.000000  714.000000  891.000000   \n",
       "mean    446.000000    0.383838    2.308642   29.699118    0.523008   \n",
       "std     257.353842    0.486592    0.836071   14.526497    1.102743   \n",
       "min       1.000000    0.000000    1.000000    0.420000    0.000000   \n",
       "25%     223.500000    0.000000    2.000000   20.125000    0.000000   \n",
       "50%     446.000000    0.000000    3.000000   28.000000    0.000000   \n",
       "75%     668.500000    1.000000    3.000000   38.000000    1.000000   \n",
       "max     891.000000    1.000000    3.000000   80.000000    8.000000   \n",
       "\n",
       "            Parch        Fare  \n",
       "count  891.000000  891.000000  \n",
       "mean     0.381594   32.204208  \n",
       "std      0.806057   49.693429  \n",
       "min      0.000000    0.000000  \n",
       "25%      0.000000    7.910400  \n",
       "50%      0.000000   14.454200  \n",
       "75%      0.000000   31.000000  \n",
       "max      6.000000  512.329200  "
      ]
     },
     "execution_count": 20,
     "metadata": {},
     "output_type": "execute_result"
    }
   ],
   "source": [
    "raw_titanic_df.describe() #Descriptive statiscits about the data"
   ]
  },
  {
   "cell_type": "markdown",
   "metadata": {},
   "source": [
    "Since *Age* count is less than 891, there are some missing values. "
   ]
  },
  {
   "cell_type": "markdown",
   "metadata": {},
   "source": [
    "There may also be missing values in other columns.  \n",
    "Below code reveals the missing ones. It seems that only *Cabin* has some missing values in addition to *Age*."
   ]
  },
  {
   "cell_type": "code",
   "execution_count": 18,
   "metadata": {
    "collapsed": false
   },
   "outputs": [
    {
     "name": "stdout",
     "output_type": "stream",
     "text": [
      "<class 'pandas.core.frame.DataFrame'>\n",
      "Int64Index: 891 entries, 0 to 890\n",
      "Data columns (total 12 columns):\n",
      "PassengerId    891 non-null int64\n",
      "Survived       891 non-null int64\n",
      "Pclass         891 non-null int64\n",
      "Name           891 non-null object\n",
      "Sex            891 non-null object\n",
      "Age            714 non-null float64\n",
      "SibSp          891 non-null int64\n",
      "Parch          891 non-null int64\n",
      "Ticket         891 non-null object\n",
      "Fare           891 non-null float64\n",
      "Cabin          204 non-null object\n",
      "Embarked       889 non-null object\n",
      "dtypes: float64(2), int64(5), object(5)\n",
      "memory usage: 90.5+ KB\n"
     ]
    }
   ],
   "source": [
    "raw_titanic_df.info() #to check all missing values"
   ]
  },
  {
   "cell_type": "markdown",
   "metadata": {},
   "source": [
    "## Part 2 - Data Wrangling\n",
    "To handling *Age* missing values, we can assign mean values grouped by *Pclass* and *Sex* in order to be more accurate."
   ]
  },
  {
   "cell_type": "code",
   "execution_count": 149,
   "metadata": {
    "collapsed": false
   },
   "outputs": [],
   "source": [
    "#Handling missing \"Age\" values\n",
    "row_iterator = raw_titanic_df.iterrows() #start iteration\n",
    "for i, row in row_iterator:\n",
    "    if np.isnan(row['Age']): #check if NaN\n",
    "        pclass=row['Pclass']\n",
    "        sex=row['Sex']\n",
    "        meanage=raw_titanic_df[(raw_titanic_df['Pclass']==pclass) & (raw_titanic_df['Sex']==sex)].mean()['Age'] #mean grouped by Pclass and Sex\n",
    "        raw_titanic_df.set_value(i,'Age',int(meanage)) #change the value"
   ]
  },
  {
   "cell_type": "markdown",
   "metadata": {},
   "source": [
    "New features are also needed to add to use anwering the questions,\n",
    "<li>*SibSp_Parch_sum* for total amount of relatives abroad\n",
    "<li>*Age_Bucket* for grouping ages\n",
    "<li>*Relative_Bucket* for total amount of relatives abroad"
   ]
  },
  {
   "cell_type": "code",
   "execution_count": 208,
   "metadata": {
    "collapsed": false
   },
   "outputs": [],
   "source": [
    "#SibSp_Parch_sum for total amount of relatives abroad\n",
    "raw_titanic_df['SibSp_Parch_sum'] = pd.Series(raw_titanic_df['SibSp']+raw_titanic_df['Parch'],\n",
    "                                              index=raw_titanic_df.index) \n",
    "\n",
    "#Age_Bucket for grouping ages\n",
    "row_iterator = raw_titanic_df.iterrows() #start iteration\n",
    "for i, row in row_iterator:\n",
    "    if row['Age']>=0 and row['Age']<10:\n",
    "        raw_titanic_df.set_value(i,'Age_Bucket','0-9') #change the value\n",
    "    elif row['Age']>=10 and row['Age']<20:\n",
    "        raw_titanic_df.set_value(i,'Age_Bucket','10-19') #change the value\n",
    "    elif row['Age']>=20 and row['Age']<30:\n",
    "        raw_titanic_df.set_value(i,'Age_Bucket','20-29') #change the value\n",
    "    elif row['Age']>=30 and row['Age']<40:\n",
    "        raw_titanic_df.set_value(i,'Age_Bucket','30-39') #change the value\n",
    "    elif row['Age']>=40 and row['Age']<50:\n",
    "        raw_titanic_df.set_value(i,'Age_Bucket','40-49') #change the value\n",
    "    elif row['Age']>=50 and row['Age']<60:\n",
    "        raw_titanic_df.set_value(i,'Age_Bucket','50-59') #change the value\n",
    "    elif row['Age']>=60 and row['Age']<70:\n",
    "        raw_titanic_df.set_value(i,'Age_Bucket','60-69') #change the value\n",
    "    elif row['Age']>=70:\n",
    "        raw_titanic_df.set_value(i,'Age_Bucket','70+') #change the value\n",
    "\n",
    "#Relative_Bucket for total amount of relatives abroad\n",
    "row_iterator = raw_titanic_df.iterrows() #start iteration\n",
    "for i, row in row_iterator:\n",
    "    if row['SibSp_Parch_sum']==1:\n",
    "        raw_titanic_df.set_value(i,'Relative_Bucket','One Relative') #change the value\n",
    "    elif row['SibSp_Parch_sum']==0:\n",
    "        raw_titanic_df.set_value(i,'Relative_Bucket','No Relative') #change the value\n",
    "    elif row['SibSp_Parch_sum']>1:\n",
    "        raw_titanic_df.set_value(i,'Relative_Bucket','More Than One Relative') #change the value"
   ]
  },
  {
   "cell_type": "markdown",
   "metadata": {},
   "source": [
    "Now, as the last phase of data wrangling, data types can be redefined if necessary."
   ]
  },
  {
   "cell_type": "code",
   "execution_count": 220,
   "metadata": {
    "collapsed": false,
    "scrolled": true
   },
   "outputs": [
    {
     "name": "stdout",
     "output_type": "stream",
     "text": [
      "<class 'pandas.core.frame.DataFrame'>\n",
      "Int64Index: 891 entries, 0 to 890\n",
      "Data columns (total 15 columns):\n",
      "PassengerId        891 non-null int64\n",
      "Survived           891 non-null int64\n",
      "Pclass             891 non-null int64\n",
      "Name               891 non-null object\n",
      "Sex                891 non-null object\n",
      "Age                891 non-null float64\n",
      "SibSp              891 non-null int64\n",
      "Parch              891 non-null int64\n",
      "Ticket             891 non-null object\n",
      "Fare               891 non-null float64\n",
      "Cabin              204 non-null object\n",
      "Embarked           889 non-null object\n",
      "SibSp_Parch_sum    891 non-null int64\n",
      "Relative_Bucket    891 non-null object\n",
      "Age_Bucket         891 non-null object\n",
      "dtypes: float64(2), int64(6), object(7)\n",
      "memory usage: 111.4+ KB\n"
     ]
    }
   ],
   "source": [
    "raw_titanic_df.info()"
   ]
  },
  {
   "cell_type": "markdown",
   "metadata": {},
   "source": [
    "*PassengerId* and *Pclass* are non-additive attributes, so these need to be string."
   ]
  },
  {
   "cell_type": "code",
   "execution_count": 223,
   "metadata": {
    "collapsed": true
   },
   "outputs": [],
   "source": [
    "titanic_df=raw_titanic_df.copy() #the data is ready to be analyzed as \"titanic_df\"\n",
    "titanic_df['PassengerId'] = titanic_df['PassengerId'].astype(str)\n",
    "titanic_df['Pclass'] = titanic_df['Pclass'].astype(str)"
   ]
  },
  {
   "cell_type": "code",
   "execution_count": 225,
   "metadata": {
    "collapsed": false
   },
   "outputs": [
    {
     "name": "stdout",
     "output_type": "stream",
     "text": [
      "<class 'pandas.core.frame.DataFrame'>\n",
      "Int64Index: 891 entries, 0 to 890\n",
      "Data columns (total 15 columns):\n",
      "PassengerId        891 non-null object\n",
      "Survived           891 non-null int64\n",
      "Pclass             891 non-null object\n",
      "Name               891 non-null object\n",
      "Sex                891 non-null object\n",
      "Age                891 non-null float64\n",
      "SibSp              891 non-null int64\n",
      "Parch              891 non-null int64\n",
      "Ticket             891 non-null object\n",
      "Fare               891 non-null float64\n",
      "Cabin              204 non-null object\n",
      "Embarked           889 non-null object\n",
      "SibSp_Parch_sum    891 non-null int64\n",
      "Relative_Bucket    891 non-null object\n",
      "Age_Bucket         891 non-null object\n",
      "dtypes: float64(2), int64(4), object(9)\n",
      "memory usage: 111.4+ KB\n"
     ]
    }
   ],
   "source": [
    "titanic_df.info()"
   ]
  },
  {
   "cell_type": "markdown",
   "metadata": {},
   "source": [
    "Now the data is ready to be analyzed."
   ]
  },
  {
   "cell_type": "markdown",
   "metadata": {},
   "source": [
    "## Part 3 - Questions to be Analyzed\n",
    "1- Is there any effect of gender on survival ratio?  \n",
    "2- Is there any effect of age on survival ratio?  \n",
    "3- Is there any effect of passenger class on survival ratio?    \n",
    "4- Which group's fare is more varied in Titanic? Groups are constructed per passenger class per gender.   \n",
    "5- Is there any effect of passenger class on abroad relative number in Titanic passengers?  \n",
    "6- Is there any effect of abroad relative number on survival ratio?   "
   ]
  },
  {
   "cell_type": "markdown",
   "metadata": {},
   "source": [
    "For the question 1, the hypothesis are,  \n",
    "H0: Survival ratio of men = Survival ratio of women  \n",
    "Ha: not H0"
   ]
  },
  {
   "cell_type": "code",
   "execution_count": 349,
   "metadata": {
    "collapsed": false
   },
   "outputs": [
    {
     "name": "stdout",
     "output_type": "stream",
     "text": [
      "Survival ratio of men: 0.188908145581\n",
      "Survival ratio of women: 0.742038216561\n"
     ]
    },
    {
     "data": {
      "image/png": "[encoded data removed]",
      "text/plain": [
       "<matplotlib.figure.Figure at 0x219919e8>"
      ]
     },
     "metadata": {},
     "output_type": "display_data"
    }
   ],
   "source": [
    "men_survival=titanic_df[(titanic_df['Sex']=='male')]['Survived']\n",
    "women_survival=titanic_df[(titanic_df['Sex']=='female')]['Survived']\n",
    "print \"Survival ratio of men: \" + str(men_survival.mean())\n",
    "print \"Survival ratio of women: \" + str(women_survival.mean())\n",
    "\n",
    "#bar plot\n",
    "y=[men_survival.mean(),women_survival.mean()]\n",
    "labels=['Men','Women']\n",
    "x = np.arange(len(labels))\n",
    "plt.bar(x, y, align='center', alpha=0.5)\n",
    "plt.xticks(x, labels)\n",
    "plt.ylabel('Survival ratio')\n",
    "plt.title('Survival ratio comparison by gender') \n",
    "plt.show()"
   ]
  },
  {
   "cell_type": "markdown",
   "metadata": {},
   "source": [
    "And, independent t-test is perfomerd below,"
   ]
  },
  {
   "cell_type": "code",
   "execution_count": 300,
   "metadata": {
    "collapsed": false
   },
   "outputs": [],
   "source": [
    "def unpaired_df(a,b): #Compute Degrees of Freedom for t-test comparing means of two independent samples\n",
    "    nominator=(((a.std()**2)/len(a))+((b.std()**2)/len(b)))**2\n",
    "    denominator=(((a.std()**2)/len(a))**2)/(len(a)-1) + (((b.std()**2)/len(b))**2)/(len(b)-1)\n",
    "    return nominator/denominator"
   ]
  },
  {
   "cell_type": "code",
   "execution_count": 345,
   "metadata": {
    "collapsed": false
   },
   "outputs": [
    {
     "name": "stdout",
     "output_type": "stream",
     "text": [
      "ttest_ind: t = 18.6718  p = 2.2836e-61\n",
      "df: 584.425953329\n"
     ]
    }
   ],
   "source": [
    "t, p = ttest_ind(women_survival, men_survival,equal_var=False)\n",
    "print \"ttest_ind: t = %g  p = %g\" % (t, p)\n",
    "print \"df: \" + str(unpaired_df(men_survival,women_survival))"
   ]
  },
  {
   "cell_type": "markdown",
   "metadata": {},
   "source": [
    "And, t-critical at alpha=.05 is about 1.97,  \n",
    "Since, t-statistic > t-critical at p-value < .05, null hypothesis can be rejected.  \n",
    "As a result, there is a statistically significant evidence that gender had an effect on survival. Women survival ratio is higher."
   ]
  },
  {
   "cell_type": "markdown",
   "metadata": {},
   "source": [
    "For the question 2, the hypothesis are,  \n",
    "H0: Age had no effect on survival ratio in Titanic disaster.  \n",
    "Ha: not H0"
   ]
  },
  {
   "cell_type": "code",
   "execution_count": 415,
   "metadata": {
    "collapsed": false
   },
   "outputs": [
    {
     "name": "stdout",
     "output_type": "stream",
     "text": [
      "Age_Bucket\n",
      "0-9       62\n",
      "10-19    102\n",
      "20-29    358\n",
      "30-39    185\n",
      "40-49    110\n",
      "50-59     48\n",
      "60-69     19\n",
      "70+        7\n",
      "Name: Survived, dtype: int64\n"
     ]
    },
    {
     "data": {
      "text/plain": [
       "<matplotlib.text.Text at 0x25ac9f60>"
      ]
     },
     "execution_count": 415,
     "metadata": {},
     "output_type": "execute_result"
    },
    {
     "data": {
      "image/png": "[encoded data removed]",
      "text/plain": [
       "<matplotlib.figure.Figure at 0x25547940>"
      ]
     },
     "metadata": {},
     "output_type": "display_data"
    }
   ],
   "source": [
    "#Plot of Age Bucket\n",
    "age_bucket_count=titanic_df.groupby(['Age_Bucket']).count()['Survived']\n",
    "print age_bucket_count\n",
    "#bar plot\n",
    "age_bucket_count.plot.bar()\n",
    "plt.ylabel('Count')\n",
    "plt.title('Age Bucket Count')"
   ]
  },
  {
   "cell_type": "code",
   "execution_count": 414,
   "metadata": {
    "collapsed": false
   },
   "outputs": [
    {
     "name": "stdout",
     "output_type": "stream",
     "text": [
      "Age_Bucket\n",
      "0-9      0.612903\n",
      "10-19    0.401961\n",
      "20-29    0.315642\n",
      "30-39    0.454054\n",
      "40-49    0.354545\n",
      "50-59    0.416667\n",
      "60-69    0.315789\n",
      "70+      0.142857\n",
      "Name: Survived, dtype: float64\n"
     ]
    },
    {
     "data": {
      "text/plain": [
       "<matplotlib.text.Text at 0x2582d5c0>"
      ]
     },
     "execution_count": 414,
     "metadata": {},
     "output_type": "execute_result"
    },
    {
     "data": {
      "image/png": "[encoded data removed]",
      "text/plain": [
       "<matplotlib.figure.Figure at 0x252a22b0>"
      ]
     },
     "metadata": {},
     "output_type": "display_data"
    }
   ],
   "source": [
    "age_survival_ratio=titanic_df.groupby(['Age_Bucket']).mean()['Survived']\n",
    "print age_survival_ratio\n",
    "#bar plot\n",
    "age_survival_ratio.plot.bar()\n",
    "plt.ylabel('Survival ratio')\n",
    "plt.title('Survival ratio comparison by age') "
   ]
  },
  {
   "cell_type": "markdown",
   "metadata": {},
   "source": [
    "According to above values, it looks children had more chances to survive.  \n",
    "Let's look statistically as well."
   ]
  },
  {
   "cell_type": "code",
   "execution_count": 420,
   "metadata": {
    "collapsed": false
   },
   "outputs": [
    {
     "data": {
      "text/plain": [
       "F_onewayResult(statistic=4.0175418808722343, pvalue=0.00024279523721014201)"
      ]
     },
     "execution_count": 420,
     "metadata": {},
     "output_type": "execute_result"
    }
   ],
   "source": [
    "#df1=8, df2=883\n",
    "stats.f_oneway(titanic_df[(titanic_df['Age_Bucket']=='0-9')]['Survived'],\n",
    "               titanic_df[(titanic_df['Age_Bucket']=='10-19')]['Survived'],\n",
    "               titanic_df[(titanic_df['Age_Bucket']=='20-29')]['Survived'],\n",
    "               titanic_df[(titanic_df['Age_Bucket']=='30-39')]['Survived'],\n",
    "               titanic_df[(titanic_df['Age_Bucket']=='40-49')]['Survived'],\n",
    "               titanic_df[(titanic_df['Age_Bucket']=='50-59')]['Survived'],\n",
    "               titanic_df[(titanic_df['Age_Bucket']=='60-69')]['Survived'],\n",
    "               titanic_df[(titanic_df['Age_Bucket']=='70+')]['Survived']\n",
    "              )"
   ]
  },
  {
   "cell_type": "markdown",
   "metadata": {},
   "source": [
    "And, f-critical at alpha=.05 is about 1.9384, since, f-statistic > f-critical at p-value < .05, null hypothesis can be rejected. There is a statistically significant evidence at least two age buckets had different survival chances.\n",
    "\n",
    "To take a step further, Tuker HSD can be performed."
   ]
  },
  {
   "cell_type": "code",
   "execution_count": 406,
   "metadata": {
    "collapsed": false
   },
   "outputs": [
    {
     "name": "stdout",
     "output_type": "stream",
     "text": [
      "Multiple Comparison of Means - Tukey HSD,FWER=0.05\n",
      "=============================================\n",
      "group1 group2 meandiff  lower   upper  reject\n",
      "---------------------------------------------\n",
      " 0-9   10-19  -0.2109  -0.4462  0.0244 False \n",
      " 0-9   20-29  -0.2973  -0.4982 -0.0963  True \n",
      " 0-9   30-39  -0.1588  -0.3733  0.0556 False \n",
      " 0-9   40-49  -0.2584  -0.4904 -0.0263  True \n",
      " 0-9   50-59  -0.1962  -0.4771  0.0847 False \n",
      " 0-9   60-69  -0.2971  -0.6803  0.086  False \n",
      " 0-9    70+    -0.47   -1.0526  0.1125 False \n",
      "10-19  20-29  -0.0863  -0.2503  0.0777 False \n",
      "10-19  30-39   0.0521  -0.1281  0.2323 False \n",
      "10-19  40-49  -0.0474  -0.2483  0.1534 False \n",
      "10-19  50-59   0.0147   -0.241  0.2705 False \n",
      "10-19  60-69  -0.0862  -0.4513  0.2789 False \n",
      "10-19   70+   -0.2591   -0.83   0.3118 False \n",
      "20-29  30-39   0.1384   0.0061  0.2707  True \n",
      "20-29  40-49   0.0389  -0.1204  0.1982 False \n",
      "20-29  50-59   0.101   -0.1236  0.3256 False \n",
      "20-29  60-69   0.0001  -0.3438  0.3441 False \n",
      "20-29   70+   -0.1728  -0.7304  0.3848 False \n",
      "30-39  40-49  -0.0995  -0.2754  0.0764 False \n",
      "30-39  50-59  -0.0374  -0.2741  0.1993 False \n",
      "30-39  60-69  -0.1383  -0.4903  0.2137 False \n",
      "30-39   70+   -0.3112  -0.8738  0.2514 False \n",
      "40-49  50-59   0.0621  -0.1906  0.3149 False \n",
      "40-49  60-69  -0.0388  -0.4018  0.3242 False \n",
      "40-49   70+   -0.2117  -0.7812  0.3579 False \n",
      "50-59  60-69  -0.1009  -0.4969  0.2951 False \n",
      "50-59   70+   -0.2738   -0.865  0.3173 False \n",
      "60-69   70+   -0.1729   -0.819  0.4731 False \n",
      "---------------------------------------------\n"
     ]
    }
   ],
   "source": [
    "mod = MultiComparison(titanic_df['Survived'], titanic_df['Age_Bucket'])\n",
    "print mod.tukeyhsd()"
   ]
  },
  {
   "cell_type": "markdown",
   "metadata": {},
   "source": [
    "As a result, it can be inferred that only 3 pairs of 28 had significantly different survival rates in Titanic disaster. These are \"0-9 / 20-29\", \"0-9 / 40-49\" and \"20-29 / 30-39\"."
   ]
  },
  {
   "cell_type": "markdown",
   "metadata": {},
   "source": [
    "For the question 3, the hypothesis are,  \n",
    "H0: Passenger class had no effect on survival ratio in Titanic disaster.  \n",
    "Ha: not H0"
   ]
  },
  {
   "cell_type": "code",
   "execution_count": 416,
   "metadata": {
    "collapsed": false
   },
   "outputs": [
    {
     "name": "stdout",
     "output_type": "stream",
     "text": [
      "Pclass\n",
      "1    216\n",
      "2    184\n",
      "3    491\n",
      "Name: Survived, dtype: int64\n"
     ]
    },
    {
     "data": {
      "text/plain": [
       "<matplotlib.text.Text at 0x25cdbb38>"
      ]
     },
     "execution_count": 416,
     "metadata": {},
     "output_type": "execute_result"
    },
    {
     "data": {
      "image/png": "[encoded data removed]",
      "text/plain": [
       "<matplotlib.figure.Figure at 0x256e6f98>"
      ]
     },
     "metadata": {},
     "output_type": "display_data"
    }
   ],
   "source": [
    "#Plot of Passenger Class\n",
    "pclass_count=titanic_df.groupby(['Pclass']).count()['Survived']\n",
    "print pclass_count\n",
    "#bar plot\n",
    "pclass_count.plot.bar()\n",
    "plt.ylabel('Count')\n",
    "plt.title('Passenger Class Count')"
   ]
  },
  {
   "cell_type": "code",
   "execution_count": 417,
   "metadata": {
    "collapsed": false
   },
   "outputs": [
    {
     "name": "stdout",
     "output_type": "stream",
     "text": [
      "Pclass\n",
      "1    0.629630\n",
      "2    0.472826\n",
      "3    0.242363\n",
      "Name: Survived, dtype: float64\n"
     ]
    },
    {
     "data": {
      "text/plain": [
       "<matplotlib.text.Text at 0x25f6e1d0>"
      ]
     },
     "execution_count": 417,
     "metadata": {},
     "output_type": "execute_result"
    },
    {
     "data": {
      "image/png": "[encoded data removed]",
      "text/plain": [
       "<matplotlib.figure.Figure at 0x25ba7b38>"
      ]
     },
     "metadata": {},
     "output_type": "display_data"
    }
   ],
   "source": [
    "pclass_survival_ratio=titanic_df.groupby(['Pclass']).mean()['Survived']\n",
    "print pclass_survival_ratio\n",
    "#bar plot\n",
    "pclass_survival_ratio.plot.bar()\n",
    "plt.ylabel('Survival ratio')\n",
    "plt.title('Survival ratio comparison by Passenger Class') "
   ]
  },
  {
   "cell_type": "markdown",
   "metadata": {},
   "source": [
    "According to above values, it looks better passenger class had more chances to survive.  \n",
    "Let's look statistically as well."
   ]
  },
  {
   "cell_type": "code",
   "execution_count": 418,
   "metadata": {
    "collapsed": false
   },
   "outputs": [
    {
     "data": {
      "text/plain": [
       "F_onewayResult(statistic=57.964817590910101, pvalue=2.1832474151179777e-24)"
      ]
     },
     "execution_count": 418,
     "metadata": {},
     "output_type": "execute_result"
    }
   ],
   "source": [
    "#df1=2, df2=889\n",
    "stats.f_oneway(titanic_df[(titanic_df['Pclass']=='1')]['Survived'],\n",
    "               titanic_df[(titanic_df['Pclass']=='2')]['Survived'],\n",
    "               titanic_df[(titanic_df['Pclass']=='3')]['Survived'])"
   ]
  },
  {
   "cell_type": "markdown",
   "metadata": {},
   "source": [
    "And, f-critical at alpha=.05 is about 2.9957, since, f-statistic > f-critical at p-value < .05, null hypothesis can be rejected. There is a statistically significant evidence at least two passenger classes had different survival chances.\n",
    "\n",
    "To take a step further, Tuker HSD can be performed."
   ]
  },
  {
   "cell_type": "code",
   "execution_count": 419,
   "metadata": {
    "collapsed": false
   },
   "outputs": [
    {
     "name": "stdout",
     "output_type": "stream",
     "text": [
      "Multiple Comparison of Means - Tukey HSD,FWER=0.05\n",
      "=============================================\n",
      "group1 group2 meandiff  lower   upper  reject\n",
      "---------------------------------------------\n",
      "  1      2    -0.1568  -0.2647 -0.0489  True \n",
      "  1      3    -0.3873  -0.4751 -0.2994  True \n",
      "  2      3    -0.2305  -0.3234 -0.1375  True \n",
      "---------------------------------------------\n"
     ]
    }
   ],
   "source": [
    "mod2 = MultiComparison(titanic_df['Survived'], titanic_df['Pclass'])\n",
    "print mod2.tukeyhsd()"
   ]
  },
  {
   "cell_type": "markdown",
   "metadata": {},
   "source": [
    "As a result, it can be inferred that all pairs had significantly different survival rates. Better passenger class higher survival chance."
   ]
  },
  {
   "cell_type": "markdown",
   "metadata": {},
   "source": [
    "For question 4, some descriptive statistics can be utilized."
   ]
  },
  {
   "cell_type": "code",
   "execution_count": 428,
   "metadata": {
    "collapsed": false
   },
   "outputs": [
    {
     "data": {
      "text/plain": [
       "Pclass  Sex          \n",
       "1       female  count     94.000000\n",
       "                mean     106.125798\n",
       "                std       74.259988\n",
       "                min       25.929200\n",
       "                25%       57.244800\n",
       "                50%       82.664550\n",
       "                75%      134.500000\n",
       "                max      512.329200\n",
       "        male    count    122.000000\n",
       "                mean      67.226127\n",
       "                std       77.548021\n",
       "                min        0.000000\n",
       "                25%       27.728100\n",
       "                50%       41.262500\n",
       "                75%       78.459375\n",
       "                max      512.329200\n",
       "2       female  count     76.000000\n",
       "                mean      21.970121\n",
       "                std       10.891796\n",
       "                min       10.500000\n",
       "                25%       13.000000\n",
       "                50%       22.000000\n",
       "                75%       26.062500\n",
       "                max       65.000000\n",
       "        male    count    108.000000\n",
       "                mean      19.741782\n",
       "                std       14.922235\n",
       "                min        0.000000\n",
       "                25%       12.331250\n",
       "                50%       13.000000\n",
       "                75%       26.000000\n",
       "                max       73.500000\n",
       "3       female  count    144.000000\n",
       "                mean      16.118810\n",
       "                std       11.690314\n",
       "                min        6.750000\n",
       "                25%        7.854200\n",
       "                50%       12.475000\n",
       "                75%       20.221875\n",
       "                max       69.550000\n",
       "        male    count    347.000000\n",
       "                mean      12.661633\n",
       "                std       11.681696\n",
       "                min        0.000000\n",
       "                25%        7.750000\n",
       "                50%        7.925000\n",
       "                75%       10.008300\n",
       "                max       69.550000\n",
       "dtype: float64"
      ]
     },
     "execution_count": 428,
     "metadata": {},
     "output_type": "execute_result"
    }
   ],
   "source": [
    "titanic_df.groupby(['Pclass','Sex'])['Fare'].describe()"
   ]
  },
  {
   "cell_type": "code",
   "execution_count": 467,
   "metadata": {
    "collapsed": false
   },
   "outputs": [
    {
     "data": {
      "text/plain": [
       "(0, 260)"
      ]
     },
     "execution_count": 467,
     "metadata": {},
     "output_type": "execute_result"
    },
    {
     "data": {
      "image/png": "[encoded data removed]",
      "text/plain": [
       "<matplotlib.figure.Figure at 0x306a29b0>"
      ]
     },
     "metadata": {},
     "output_type": "display_data"
    }
   ],
   "source": [
    "titanic_df.boxplot(column='Fare',by=['Sex','Pclass'], widths=0.7)\n",
    "plt.ylim((0,260))"
   ]
  },
  {
   "cell_type": "markdown",
   "metadata": {},
   "source": [
    "So, according to above visualization and values, fare range is the largest and vary most in first class, especially in women."
   ]
  },
  {
   "cell_type": "markdown",
   "metadata": {},
   "source": [
    "For the question 5, the hypothesis are,  \n",
    "H0: Passenger class had no effect on abroad relative number.  \n",
    "Ha: not H0"
   ]
  },
  {
   "cell_type": "code",
   "execution_count": 468,
   "metadata": {
    "collapsed": false
   },
   "outputs": [
    {
     "name": "stdout",
     "output_type": "stream",
     "text": [
      "Mean relative number of Class 1: 0.773148148148\n",
      "Mean relative number of Class 2: 0.782608695652\n",
      "Mean relative number of Class 3: 1.00814663951\n"
     ]
    },
    {
     "data": {
      "image/png": "[encoded data removed]",
      "text/plain": [
       "<matplotlib.figure.Figure at 0x30aa4358>"
      ]
     },
     "metadata": {},
     "output_type": "display_data"
    }
   ],
   "source": [
    "class1_relative=titanic_df[(titanic_df['Pclass']=='1')]['SibSp_Parch_sum']\n",
    "class2_relative=titanic_df[(titanic_df['Pclass']=='2')]['SibSp_Parch_sum']\n",
    "class3_relative=titanic_df[(titanic_df['Pclass']=='3')]['SibSp_Parch_sum']\n",
    "print \"Mean relative number of Class 1: \" + str(class1_relative.mean())\n",
    "print \"Mean relative number of Class 2: \" + str(class2_relative.mean())\n",
    "print \"Mean relative number of Class 3: \" + str(class3_relative.mean())\n",
    "\n",
    "#bar plot\n",
    "y=[class1_relative.mean(),class2_relative.mean(),class3_relative.mean()]\n",
    "labels=['Class 1','Class 2','Class 3']\n",
    "x = np.arange(len(labels))\n",
    "plt.bar(x, y, align='center', alpha=0.5)\n",
    "plt.xticks(x, labels)\n",
    "plt.ylabel('Mean relative number')\n",
    "plt.title('Mean relative number comparison by Passenger Class') \n",
    "plt.show()"
   ]
  },
  {
   "cell_type": "markdown",
   "metadata": {},
   "source": [
    "According to above values, it looks third class may have more relatives.  \n",
    "Let's look statistically as well."
   ]
  },
  {
   "cell_type": "code",
   "execution_count": 469,
   "metadata": {
    "collapsed": false
   },
   "outputs": [
    {
     "data": {
      "text/plain": [
       "F_onewayResult(statistic=2.2603199692962921, pvalue=0.10491697132973478)"
      ]
     },
     "execution_count": 469,
     "metadata": {},
     "output_type": "execute_result"
    }
   ],
   "source": [
    "#df1=2, df2=888\n",
    "stats.f_oneway(titanic_df[(titanic_df['Pclass']=='1')]['SibSp_Parch_sum'],\n",
    "               titanic_df[(titanic_df['Pclass']=='2')]['SibSp_Parch_sum'],\n",
    "               titanic_df[(titanic_df['Pclass']=='3')]['SibSp_Parch_sum'])"
   ]
  },
  {
   "cell_type": "markdown",
   "metadata": {},
   "source": [
    "So, f-critical at alpha=.05 is about 2.9957, since, f-statistic < f-critical at p-value > .05, null hypothesis can be failed to reject. There is no statistically significant evidence that at least two passenger classes had different abroad relative number."
   ]
  },
  {
   "cell_type": "markdown",
   "metadata": {},
   "source": [
    "For the question 6, the hypothesis are,  \n",
    "H0: Abroad relative number had no effect on survival ratio.  \n",
    "Ha: not H0"
   ]
  },
  {
   "cell_type": "code",
   "execution_count": 470,
   "metadata": {
    "collapsed": false
   },
   "outputs": [
    {
     "name": "stdout",
     "output_type": "stream",
     "text": [
      "Relative_Bucket\n",
      "More Than One Relative    0.466321\n",
      "No Relative               0.303538\n",
      "One Relative              0.552795\n",
      "Name: Survived, dtype: float64\n"
     ]
    },
    {
     "data": {
      "text/plain": [
       "<matplotlib.text.Text at 0x30d24940>"
      ]
     },
     "execution_count": 470,
     "metadata": {},
     "output_type": "execute_result"
    },
    {
     "data": {
      "image/png": "[encoded data removed]",
      "text/plain": [
       "<matplotlib.figure.Figure at 0x30490ac8>"
      ]
     },
     "metadata": {},
     "output_type": "display_data"
    }
   ],
   "source": [
    "relative_survival_ratio=titanic_df.groupby(['Relative_Bucket']).mean()['Survived']\n",
    "print relative_survival_ratio\n",
    "#bar plot\n",
    "relative_survival_ratio.plot.bar()\n",
    "plt.ylabel('Survival ratio')\n",
    "plt.title('Survival ratio comparison by Abroad Relative Number') "
   ]
  },
  {
   "cell_type": "markdown",
   "metadata": {},
   "source": [
    "According to above values, it looks abroad relative number may have some effect on survival.\n",
    "Let's look statistically as well."
   ]
  },
  {
   "cell_type": "code",
   "execution_count": 473,
   "metadata": {
    "collapsed": false
   },
   "outputs": [
    {
     "data": {
      "text/plain": [
       "F_onewayResult(statistic=20.665027805882485, pvalue=1.6899909134170302e-09)"
      ]
     },
     "execution_count": 473,
     "metadata": {},
     "output_type": "execute_result"
    }
   ],
   "source": [
    "#df1=2, df2=889\n",
    "stats.f_oneway(titanic_df[(titanic_df['Relative_Bucket']=='No Relative')]['Survived'],\n",
    "               titanic_df[(titanic_df['Relative_Bucket']=='One Relative')]['Survived'],\n",
    "               titanic_df[(titanic_df['Relative_Bucket']=='More Than One Relative')]['Survived'])"
   ]
  },
  {
   "cell_type": "markdown",
   "metadata": {},
   "source": [
    "So, f-critical at alpha=.05 is about 2.9957, since, f-statistic > f-critical at p-value < .05, null hypothesis can be rejected. There is a statistically significant evidence that at least two relative buckets had effect on survival."
   ]
  },
  {
   "cell_type": "markdown",
   "metadata": {},
   "source": [
    "To take a step further, Tuker HSD can be performed."
   ]
  },
  {
   "cell_type": "code",
   "execution_count": 474,
   "metadata": {
    "collapsed": false
   },
   "outputs": [
    {
     "name": "stdout",
     "output_type": "stream",
     "text": [
      "        Multiple Comparison of Means - Tukey HSD,FWER=0.05        \n",
      "==================================================================\n",
      "        group1            group2    meandiff  lower  upper  reject\n",
      "------------------------------------------------------------------\n",
      "More Than One Relative No Relative  -0.1628  -0.2566 -0.069  True \n",
      "More Than One Relative One Relative  0.0865  -0.0329 0.2058 False \n",
      "     No Relative       One Relative  0.2493   0.1488 0.3497  True \n",
      "------------------------------------------------------------------\n"
     ]
    }
   ],
   "source": [
    "mod3 = MultiComparison(titanic_df['Survived'], titanic_df['Relative_Bucket'])\n",
    "print mod3.tukeyhsd()"
   ]
  },
  {
   "cell_type": "markdown",
   "metadata": {},
   "source": [
    "As a result, it can be inferred that having at least one relative had statistically significant effect on survival. If a passenger had at least one relative also had higher survival chance."
   ]
  }
 ],
 "metadata": {
  "kernelspec": {
   "display_name": "Python 2",
   "language": "python",
   "name": "python2"
  },
  "language_info": {
   "codemirror_mode": {
    "name": "ipython",
    "version": 2
   },
   "file_extension": ".py",
   "mimetype": "text/x-python",
   "name": "python",
   "nbconvert_exporter": "python",
   "pygments_lexer": "ipython2",
   "version": "2.7.11"
  }
 },
 "nbformat": 4,
 "nbformat_minor": 0
}

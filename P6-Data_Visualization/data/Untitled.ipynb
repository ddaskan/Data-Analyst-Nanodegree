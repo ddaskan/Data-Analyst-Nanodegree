{
 "cells": [
  {
   "cell_type": "code",
   "execution_count": 21,
   "metadata": {
    "collapsed": true
   },
   "outputs": [],
   "source": [
    "import pandas as pd\n",
    "import numpy as np\n",
    "data = pd.read_csv('total3.csv')"
   ]
  },
  {
   "cell_type": "code",
   "execution_count": 22,
   "metadata": {
    "collapsed": false
   },
   "outputs": [
    {
     "data": {
      "text/plain": [
       "Index([u'Year', u'Day', u'ArrDelay', u'DepDelay'], dtype='object')"
      ]
     },
     "execution_count": 22,
     "metadata": {},
     "output_type": "execute_result"
    }
   ],
   "source": [
    "data.columns"
   ]
  },
  {
   "cell_type": "code",
   "execution_count": 24,
   "metadata": {
    "collapsed": false
   },
   "outputs": [
    {
     "name": "stdout",
     "output_type": "stream",
     "text": [
      "                 DepDelay   ArrDelay\n",
      "Year Day                            \n",
      "1987 Friday      7.316123   8.791373\n",
      "     Monday      7.755080   9.423212\n",
      "     Saturday    5.947418   5.928267\n",
      "     Sunday      8.297988   9.154890\n",
      "     Thursday    8.067708   9.764203\n",
      "     Tuesday     8.977901  11.504345\n",
      "     Wednesday   9.247515  11.233519\n",
      "1988 Friday      7.220750   7.710637\n",
      "     Monday      6.767114   6.782934\n",
      "     Saturday    5.521487   4.065626\n",
      "     Sunday      5.880212   4.703498\n",
      "     Thursday    7.476789   8.178355\n",
      "     Tuesday     6.294641   6.713623\n",
      "     Wednesday   6.730048   7.385205\n",
      "1989 Friday      9.332861  10.220807\n",
      "     Monday      6.519818   6.675099\n",
      "     Saturday    7.069114   5.863450\n",
      "     Sunday      7.043354   6.109157\n",
      "     Thursday    9.286007  10.434738\n",
      "     Tuesday     8.173041   9.162941\n",
      "     Wednesday   8.844194  10.052732\n",
      "1990 Friday     10.076780  11.170785\n",
      "     Monday      5.189624   4.828362\n",
      "     Saturday    6.546882   5.241656\n",
      "     Sunday      6.072364   4.968548\n",
      "     Thursday    8.785160   9.968819\n",
      "     Tuesday     5.352741   5.383391\n",
      "     Wednesday   5.637448   5.942437\n",
      "1991 Friday      7.130594   6.789780\n",
      "     Monday      4.580658   3.391235\n",
      "...                   ...        ...\n",
      "2004 Tuesday     6.567052   5.510747\n",
      "     Wednesday   7.410902   6.823174\n",
      "2005 Friday     10.553218   9.514468\n",
      "     Monday      9.118007   7.860761\n",
      "     Saturday    6.522569   3.301072\n",
      "     Sunday      8.646469   6.454012\n",
      "     Thursday   10.145770   9.672332\n",
      "     Tuesday     6.845165   5.367869\n",
      "     Wednesday   8.398586   7.556946\n",
      "2006 Friday     13.052162  12.320714\n",
      "     Monday     10.302816   8.842539\n",
      "     Saturday    8.264994   5.169126\n",
      "     Sunday     10.178796   8.139275\n",
      "     Thursday   11.767976  11.575170\n",
      "     Tuesday     7.676705   6.195163\n",
      "     Wednesday   8.870573   7.977179\n",
      "2007 Friday     13.536223  13.067675\n",
      "     Monday     11.865884  10.513503\n",
      "     Saturday    8.965287   5.846600\n",
      "     Sunday     11.949764  10.329577\n",
      "     Thursday   12.840758  12.685980\n",
      "     Tuesday     9.357214   8.263684\n",
      "     Wednesday  10.641332   9.962944\n",
      "2008 Friday     12.101109  10.953440\n",
      "     Monday     10.222611   8.210850\n",
      "     Saturday    8.605272   5.789666\n",
      "     Sunday     11.523198   9.495886\n",
      "     Thursday    9.739437   8.411599\n",
      "     Tuesday     8.916446   7.481208\n",
      "     Wednesday   8.233873   6.522017\n",
      "\n",
      "[154 rows x 2 columns]\n"
     ]
    }
   ],
   "source": [
    "datag = data.groupby(['Year','Day']).agg({'ArrDelay':np.mean, 'DepDelay':np.mean})\n",
    "print datag"
   ]
  },
  {
   "cell_type": "code",
   "execution_count": 26,
   "metadata": {
    "collapsed": false
   },
   "outputs": [],
   "source": [
    "datag['TotalDelay'] = datag['DepDelay'] + datag['ArrDelay']"
   ]
  },
  {
   "cell_type": "code",
   "execution_count": 28,
   "metadata": {
    "collapsed": false
   },
   "outputs": [],
   "source": [
    "datag.to_csv('data__agg.tsv', sep='\\t')"
   ]
  },
  {
   "cell_type": "code",
   "execution_count": null,
   "metadata": {
    "collapsed": true
   },
   "outputs": [],
   "source": []
  }
 ],
 "metadata": {
  "kernelspec": {
   "display_name": "Python 2",
   "language": "python",
   "name": "python2"
  },
  "language_info": {
   "codemirror_mode": {
    "name": "ipython",
    "version": 2
   },
   "file_extension": ".py",
   "mimetype": "text/x-python",
   "name": "python",
   "nbconvert_exporter": "python",
   "pygments_lexer": "ipython2",
   "version": "2.7.11"
  }
 },
 "nbformat": 4,
 "nbformat_minor": 0
}
